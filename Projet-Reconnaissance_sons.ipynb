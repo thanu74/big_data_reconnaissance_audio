{
 "cells": [
  {
   "cell_type": "code",
   "execution_count": 6,
   "metadata": {},
   "outputs": [],
   "source": [
    "import numpy as np\n",
    "import matplotlib.pyplot as plt\n",
    "import librosa\n",
    "import librosa.feature\n",
    "import librosa.display\n",
    "import glob\n",
    "import keras\n",
    "from keras.models import Sequential\n",
    "from keras.layers import Dense, Activation\n",
    "from keras.utils.np_utils import to_categorical\n",
    "import tensorflow as tf"
   ]
  },
  {
   "cell_type": "code",
   "execution_count": 7,
   "metadata": {},
   "outputs": [],
   "source": [
    "def extract_info():\n",
    "    list_features = []\n",
    "    list_labels = []\n",
    "    \n",
    "    animals = ['cat', 'dog']\n",
    "    for animal in animals:\n",
    "        audio = glob.glob('barkmeow/'+animal+'/*.wav')\n",
    "        for audio_file in audio:\n",
    "            y, sr = librosa.load(audio_file)\n",
    "            mfcc1 = librosa.feature.mfcc(y)\n",
    "            mfcc2 = mfcc1 / np.amax(np.absolute(mfcc1))\n",
    "            features = np.ndarray.flatten(mfcc2)[:25]\n",
    "            list_features.append(features)\n",
    "            list_labels.append(animal)\n",
    "            \n",
    "    label_uniq_ids, label_row_ids = np.unique(list_labels, return_inverse=True)\n",
    "    label_row_ids = label_row_ids.astype(np.int, copy=False)\n",
    "    onehot_labels = to_categorical(label_row_ids, len(label_uniq_ids))\n",
    "    return np.stack(list_features), onehot_labels"
   ]
  },
  {
   "cell_type": "code",
   "execution_count": 8,
   "metadata": {},
   "outputs": [],
   "source": [
    "features, labels = extract_info()"
   ]
  },
  {
   "cell_type": "code",
   "execution_count": 10,
   "metadata": {},
   "outputs": [],
   "source": [
    "split_ratio = 0.8\n",
    "\n",
    "alldata = np.column_stack((features, labels))\n",
    "\n",
    "np.random.shuffle(alldata)\n",
    "splitidx = int(len(alldata) * split_ratio)\n",
    "train, test = alldata[:splitidx,:], alldata[splitidx,:]\n",
    "\n",
    "train_input = train[:,:-2]\n",
    "train_labels = train[:,-2:]\n",
    "\n",
    "test_input = train[:,:-2]\n",
    "test_labels = train[:,-2:]"
   ]
  },
  {
   "cell_type": "code",
   "execution_count": 31,
   "metadata": {},
   "outputs": [
    {
     "name": "stdout",
     "output_type": "stream",
     "text": [
      "Model: \"sequential_7\"\n",
      "_________________________________________________________________\n",
      "Layer (type)                 Output Shape              Param #   \n",
      "=================================================================\n",
      "dense_14 (Dense)             (None, 600)               15600     \n",
      "_________________________________________________________________\n",
      "activation_14 (Activation)   (None, 600)               0         \n",
      "_________________________________________________________________\n",
      "dense_15 (Dense)             (None, 2)                 1202      \n",
      "_________________________________________________________________\n",
      "activation_15 (Activation)   (None, 2)                 0         \n",
      "=================================================================\n",
      "Total params: 16,802\n",
      "Trainable params: 16,802\n",
      "Non-trainable params: 0\n",
      "_________________________________________________________________\n"
     ]
    }
   ],
   "source": [
    "model = Sequential()\n",
    "\n",
    "model.add(Dense(600, input_dim = (np.shape(train_input)[1])))\n",
    "model.add(Activation('relu'))\n",
    "model.add(Dense(2))\n",
    "model.add(Activation('softmax'))\n",
    "\n",
    "model.summary()"
   ]
  },
  {
   "cell_type": "code",
   "execution_count": 32,
   "metadata": {},
   "outputs": [],
   "source": [
    "model.compile(optimizer='adam',loss='categorical_crossentropy',metrics=['accuracy'])"
   ]
  },
  {
   "cell_type": "code",
   "execution_count": 33,
   "metadata": {},
   "outputs": [
    {
     "name": "stdout",
     "output_type": "stream",
     "text": [
      "Epoch 1/10\n",
      "4/4 [==============================] - 0s 62ms/step - loss: 0.6912 - accuracy: 0.5354 - val_loss: 0.6239 - val_accuracy: 0.7812\n",
      "Epoch 2/10\n",
      "4/4 [==============================] - 0s 26ms/step - loss: 0.6531 - accuracy: 0.6406 - val_loss: 0.5820 - val_accuracy: 0.8125\n",
      "Epoch 3/10\n",
      "4/4 [==============================] - 0s 23ms/step - loss: 0.6221 - accuracy: 0.7385 - val_loss: 0.5571 - val_accuracy: 0.7188\n",
      "Epoch 4/10\n",
      "4/4 [==============================] - 0s 23ms/step - loss: 0.6317 - accuracy: 0.6240 - val_loss: 0.5221 - val_accuracy: 0.7812\n",
      "Epoch 5/10\n",
      "4/4 [==============================] - 0s 21ms/step - loss: 0.6060 - accuracy: 0.7500 - val_loss: 0.4991 - val_accuracy: 0.8438\n",
      "Epoch 6/10\n",
      "4/4 [==============================] - 0s 24ms/step - loss: 0.5714 - accuracy: 0.7375 - val_loss: 0.4785 - val_accuracy: 0.8125\n",
      "Epoch 7/10\n",
      "4/4 [==============================] - 0s 17ms/step - loss: 0.5732 - accuracy: 0.7500 - val_loss: 0.4619 - val_accuracy: 0.7812\n",
      "Epoch 8/10\n",
      "4/4 [==============================] - 0s 21ms/step - loss: 0.5339 - accuracy: 0.8094 - val_loss: 0.4421 - val_accuracy: 0.8438\n",
      "Epoch 9/10\n",
      "4/4 [==============================] - 0s 23ms/step - loss: 0.5353 - accuracy: 0.7573 - val_loss: 0.4279 - val_accuracy: 0.8438\n",
      "Epoch 10/10\n",
      "4/4 [==============================] - 0s 16ms/step - loss: 0.5315 - accuracy: 0.7646 - val_loss: 0.4141 - val_accuracy: 0.8438\n"
     ]
    },
    {
     "data": {
      "text/plain": [
       "<tensorflow.python.keras.callbacks.History at 0x12c99e10520>"
      ]
     },
     "execution_count": 33,
     "metadata": {},
     "output_type": "execute_result"
    }
   ],
   "source": [
    "model.fit(train_input, train_labels, epochs=10, batch_size=32, validation_split=0.2)"
   ]
  },
  {
   "cell_type": "code",
   "execution_count": 26,
   "metadata": {},
   "outputs": [
    {
     "name": "stdout",
     "output_type": "stream",
     "text": [
      "5/5 [==============================] - 0s 0s/step - loss: 0.5137 - accuracy: 0.7875\n",
      "Valeur du Loss: 0.5137, et valeur de l'accuracy: 0.787500\n"
     ]
    }
   ],
   "source": [
    "loss, acc = model.evaluate(test_input, test_labels, batch_size=32)\n",
    "\n",
    "print(\"Valeur du Loss: %.4f, et valeur de l'accuracy: %4f\" % (loss, acc))"
   ]
  },
  {
   "cell_type": "code",
   "execution_count": 14,
   "metadata": {},
   "outputs": [
    {
     "name": "stdout",
     "output_type": "stream",
     "text": [
      "INFO:tensorflow:Assets written to: C:\\Users\\thanu\\AppData\\Local\\Temp\\tmpbyxlxffa\\assets\n"
     ]
    },
    {
     "data": {
      "text/plain": [
       "20240"
      ]
     },
     "execution_count": 14,
     "metadata": {},
     "output_type": "execute_result"
    }
   ],
   "source": [
    "converter = tf.lite.TFLiteConverter.from_keras_model(model)\n",
    "converter.optimizations = [tf.lite.Optimize.OPTIMIZE_FOR_LATENCY]\n",
    "\n",
    "tflite_model = converter.convert()\n",
    "open(\"converted_model_latency.tflite\", \"wb\").write(tflite_model)"
   ]
  },
  {
   "cell_type": "code",
   "execution_count": null,
   "metadata": {},
   "outputs": [],
   "source": []
  }
 ],
 "metadata": {
  "kernelspec": {
   "display_name": "Python 3",
   "language": "python",
   "name": "python3"
  },
  "language_info": {
   "codemirror_mode": {
    "name": "ipython",
    "version": 3
   },
   "file_extension": ".py",
   "mimetype": "text/x-python",
   "name": "python",
   "nbconvert_exporter": "python",
   "pygments_lexer": "ipython3",
   "version": "3.8.5"
  }
 },
 "nbformat": 4,
 "nbformat_minor": 4
}
